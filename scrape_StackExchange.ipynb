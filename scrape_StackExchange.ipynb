{
  "nbformat": 4,
  "nbformat_minor": 0,
  "metadata": {
    "colab": {
      "name": "scrape_StackExchange.ipynb",
      "provenance": [],
      "collapsed_sections": []
    },
    "kernelspec": {
      "name": "python3",
      "display_name": "Python 3"
    },
    "language_info": {
      "name": "python"
    }
  },
  "cells": [
    {
      "cell_type": "markdown",
      "source": [
        "## <center> CSE STACK EXCHANGE - Prikupljanje podataka scrapeanjem </center>"
      ],
      "metadata": {
        "id": "oDzwiqkcaDmM"
      }
    },
    {
      "cell_type": "markdown",
      "source": [
        "#### Scrapeanje pomoću Scrapyja"
      ],
      "metadata": {
        "id": "qPbjudGA8hsb"
      }
    },
    {
      "cell_type": "code",
      "source": [
        "!pip install scrapy"
      ],
      "metadata": {
        "id": "e1ylkuL0gFZW",
        "colab": {
          "base_uri": "https://localhost:8080/"
        },
        "outputId": "f828e36b-0aa5-41d9-8c8e-c0e513ab8697"
      },
      "execution_count": null,
      "outputs": [
        {
          "output_type": "stream",
          "name": "stdout",
          "text": [
            "Successfully installed Automat-20.2.0 PyDispatcher-2.0.5 Twisted-21.7.0 constantly-15.1.0 cryptography-36.0.1 cssselect-1.1.0 h2-3.2.0 hpack-3.0.0 hyperframe-5.2.0 hyperlink-21.0.0 incremental-21.3.0 itemadapter-0.4.0 itemloaders-1.0.4 jmespath-0.10.0 parsel-1.6.0 priority-1.3.0 protego-0.1.16 pyOpenSSL-21.0.0 queuelib-1.6.2 scrapy-2.5.1 service-identity-21.1.0 w3lib-1.22.0 zope.interface-5.4.0\n"
          ]
        }
      ]
    },
    {
      "cell_type": "code",
      "source": [
        "import scrapy\n",
        "from scrapy.crawler import CrawlerProcess"
      ],
      "metadata": {
        "id": "l-lFG2wngJZI"
      },
      "execution_count": null,
      "outputs": []
    },
    {
      "cell_type": "markdown",
      "source": [
        "##### Kreiranje spidera"
      ],
      "metadata": {
        "id": "WXuoVKNI9Klr"
      }
    },
    {
      "cell_type": "code",
      "source": [
        "class SExchangeSpider(scrapy.Spider):\n",
        "    \n",
        "    name = \"SExchangeSpider\"\n",
        "    \n",
        "    start_urls = ['https://cseducators.stackexchange.com/questions/0']\n",
        "\n",
        "    def parse(self, response):\n",
        "\n",
        "        print(\"Status odgovora: \", response)\n",
        "        print(\"Sadržaj odgovor: \", response.text)\n",
        "\n",
        "        content = \"\".join(response.xpath('//div[@class=\"postcell post-layout--right\"]/div[@class=\"s-prose js-post-body\"]/p/text()').extract())\n",
        "        print(\"Sadržaj pitanja: \", content)"
      ],
      "metadata": {
        "id": "zuRZdyUYgP3v"
      },
      "execution_count": null,
      "outputs": []
    },
    {
      "cell_type": "markdown",
      "source": [
        "##### Pokretanje spidera"
      ],
      "metadata": {
        "id": "Fg875piJ9e7C"
      }
    },
    {
      "cell_type": "code",
      "execution_count": null,
      "metadata": {
        "id": "ECRwLs6Qf7lz"
      },
      "outputs": [],
      "source": [
        "process = CrawlerProcess()\n",
        "process.crawl(SExchangeSpider)\n",
        "process.start()"
      ]
    },
    {
      "cell_type": "markdown",
      "source": [
        "\n",
        "\n",
        "> Značajke koje smo dobili scrapeanjem pomoću scrapyja\n",
        "\n"
      ],
      "metadata": {
        "id": "RhP0o0PYkNd6"
      }
    },
    {
      "cell_type": "code",
      "source": [
        "import pandas as pd\n",
        "scrapy_features_scrapy = pd.DataFrame({\"Pitanje ne postoji\": [0, 404, 'nepoznato', 'nepoznato', 'stranica ne postoji'],\n",
        "                   \"Pitanje je izbrisano\": [1, 404, 'nepoznato', 'nepoznato', 'preusmjeravanje urla - pitanje je postojalo'],\n",
        "                   \"Pitanje postoji\": [2, 200, 'cijela html stranica', 'dohvaćen sadržaj pitanja', 'postoje podaci o pitanju']},\n",
        "                  [\"id\", \"response.status_code\", \"response.text\", \"question_content\", \"conclusion\"])"
      ],
      "metadata": {
        "id": "Hm_izKyyjJ2F"
      },
      "execution_count": 1,
      "outputs": []
    },
    {
      "cell_type": "code",
      "source": [
        "scrapy_features_scrapy.rename_axis(\"features\", axis=\"columns\")"
      ],
      "metadata": {
        "colab": {
          "base_uri": "https://localhost:8080/",
          "height": 206
        },
        "id": "vytLbtpRkAPN",
        "outputId": "3fed39ab-29f6-4b10-859c-621116142763"
      },
      "execution_count": 2,
      "outputs": [
        {
          "output_type": "execute_result",
          "data": {
            "text/html": [
              "\n",
              "  <div id=\"df-24a56151-cfd0-499f-92ef-3eeab60ce82e\">\n",
              "    <div class=\"colab-df-container\">\n",
              "      <div>\n",
              "<style scoped>\n",
              "    .dataframe tbody tr th:only-of-type {\n",
              "        vertical-align: middle;\n",
              "    }\n",
              "\n",
              "    .dataframe tbody tr th {\n",
              "        vertical-align: top;\n",
              "    }\n",
              "\n",
              "    .dataframe thead th {\n",
              "        text-align: right;\n",
              "    }\n",
              "</style>\n",
              "<table border=\"1\" class=\"dataframe\">\n",
              "  <thead>\n",
              "    <tr style=\"text-align: right;\">\n",
              "      <th>features</th>\n",
              "      <th>Pitanje ne postoji</th>\n",
              "      <th>Pitanje je izbrisano</th>\n",
              "      <th>Pitanje postoji</th>\n",
              "    </tr>\n",
              "  </thead>\n",
              "  <tbody>\n",
              "    <tr>\n",
              "      <th>id</th>\n",
              "      <td>0</td>\n",
              "      <td>1</td>\n",
              "      <td>2</td>\n",
              "    </tr>\n",
              "    <tr>\n",
              "      <th>response.status_code</th>\n",
              "      <td>404</td>\n",
              "      <td>404</td>\n",
              "      <td>200</td>\n",
              "    </tr>\n",
              "    <tr>\n",
              "      <th>response.text</th>\n",
              "      <td>nepoznato</td>\n",
              "      <td>nepoznato</td>\n",
              "      <td>cijela html stranica</td>\n",
              "    </tr>\n",
              "    <tr>\n",
              "      <th>question_content</th>\n",
              "      <td>nepoznato</td>\n",
              "      <td>nepoznato</td>\n",
              "      <td>dohvaćen sadržaj pitanja</td>\n",
              "    </tr>\n",
              "    <tr>\n",
              "      <th>conclusion</th>\n",
              "      <td>stranica ne postoji</td>\n",
              "      <td>preusmjeravanje urla - pitanje je postojalo</td>\n",
              "      <td>postoje podaci o pitanju</td>\n",
              "    </tr>\n",
              "  </tbody>\n",
              "</table>\n",
              "</div>\n",
              "      <button class=\"colab-df-convert\" onclick=\"convertToInteractive('df-24a56151-cfd0-499f-92ef-3eeab60ce82e')\"\n",
              "              title=\"Convert this dataframe to an interactive table.\"\n",
              "              style=\"display:none;\">\n",
              "        \n",
              "  <svg xmlns=\"http://www.w3.org/2000/svg\" height=\"24px\"viewBox=\"0 0 24 24\"\n",
              "       width=\"24px\">\n",
              "    <path d=\"M0 0h24v24H0V0z\" fill=\"none\"/>\n",
              "    <path d=\"M18.56 5.44l.94 2.06.94-2.06 2.06-.94-2.06-.94-.94-2.06-.94 2.06-2.06.94zm-11 1L8.5 8.5l.94-2.06 2.06-.94-2.06-.94L8.5 2.5l-.94 2.06-2.06.94zm10 10l.94 2.06.94-2.06 2.06-.94-2.06-.94-.94-2.06-.94 2.06-2.06.94z\"/><path d=\"M17.41 7.96l-1.37-1.37c-.4-.4-.92-.59-1.43-.59-.52 0-1.04.2-1.43.59L10.3 9.45l-7.72 7.72c-.78.78-.78 2.05 0 2.83L4 21.41c.39.39.9.59 1.41.59.51 0 1.02-.2 1.41-.59l7.78-7.78 2.81-2.81c.8-.78.8-2.07 0-2.86zM5.41 20L4 18.59l7.72-7.72 1.47 1.35L5.41 20z\"/>\n",
              "  </svg>\n",
              "      </button>\n",
              "      \n",
              "  <style>\n",
              "    .colab-df-container {\n",
              "      display:flex;\n",
              "      flex-wrap:wrap;\n",
              "      gap: 12px;\n",
              "    }\n",
              "\n",
              "    .colab-df-convert {\n",
              "      background-color: #E8F0FE;\n",
              "      border: none;\n",
              "      border-radius: 50%;\n",
              "      cursor: pointer;\n",
              "      display: none;\n",
              "      fill: #1967D2;\n",
              "      height: 32px;\n",
              "      padding: 0 0 0 0;\n",
              "      width: 32px;\n",
              "    }\n",
              "\n",
              "    .colab-df-convert:hover {\n",
              "      background-color: #E2EBFA;\n",
              "      box-shadow: 0px 1px 2px rgba(60, 64, 67, 0.3), 0px 1px 3px 1px rgba(60, 64, 67, 0.15);\n",
              "      fill: #174EA6;\n",
              "    }\n",
              "\n",
              "    [theme=dark] .colab-df-convert {\n",
              "      background-color: #3B4455;\n",
              "      fill: #D2E3FC;\n",
              "    }\n",
              "\n",
              "    [theme=dark] .colab-df-convert:hover {\n",
              "      background-color: #434B5C;\n",
              "      box-shadow: 0px 1px 3px 1px rgba(0, 0, 0, 0.15);\n",
              "      filter: drop-shadow(0px 1px 2px rgba(0, 0, 0, 0.3));\n",
              "      fill: #FFFFFF;\n",
              "    }\n",
              "  </style>\n",
              "\n",
              "      <script>\n",
              "        const buttonEl =\n",
              "          document.querySelector('#df-24a56151-cfd0-499f-92ef-3eeab60ce82e button.colab-df-convert');\n",
              "        buttonEl.style.display =\n",
              "          google.colab.kernel.accessAllowed ? 'block' : 'none';\n",
              "\n",
              "        async function convertToInteractive(key) {\n",
              "          const element = document.querySelector('#df-24a56151-cfd0-499f-92ef-3eeab60ce82e');\n",
              "          const dataTable =\n",
              "            await google.colab.kernel.invokeFunction('convertToInteractive',\n",
              "                                                     [key], {});\n",
              "          if (!dataTable) return;\n",
              "\n",
              "          const docLinkHtml = 'Like what you see? Visit the ' +\n",
              "            '<a target=\"_blank\" href=https://colab.research.google.com/notebooks/data_table.ipynb>data table notebook</a>'\n",
              "            + ' to learn more about interactive tables.';\n",
              "          element.innerHTML = '';\n",
              "          dataTable['output_type'] = 'display_data';\n",
              "          await google.colab.output.renderOutput(dataTable, element);\n",
              "          const docLink = document.createElement('div');\n",
              "          docLink.innerHTML = docLinkHtml;\n",
              "          element.appendChild(docLink);\n",
              "        }\n",
              "      </script>\n",
              "    </div>\n",
              "  </div>\n",
              "  "
            ],
            "text/plain": [
              "features               Pitanje ne postoji  ...           Pitanje postoji\n",
              "id                                      0  ...                         2\n",
              "response.status_code                  404  ...                       200\n",
              "response.text                   nepoznato  ...      cijela html stranica\n",
              "question_content                nepoznato  ...  dohvaćen sadržaj pitanja\n",
              "conclusion            stranica ne postoji  ...  postoje podaci o pitanju\n",
              "\n",
              "[5 rows x 3 columns]"
            ]
          },
          "metadata": {},
          "execution_count": 2
        }
      ]
    },
    {
      "cell_type": "markdown",
      "source": [
        "### Drugi način: scrapeanje koristeći requests i BeautifulSoupa"
      ],
      "metadata": {
        "id": "C3XKkdu-HZ_H"
      }
    },
    {
      "cell_type": "markdown",
      "source": [
        "#### Pokretanje zahtjeva"
      ],
      "metadata": {
        "id": "QgLAk6wFhRBi"
      }
    },
    {
      "cell_type": "code",
      "source": [
        "import requests\n",
        "\n",
        "response = requests.get('https://cseducators.stackexchange.com/questions/2')"
      ],
      "metadata": {
        "id": "OZyAeyi44aQ3"
      },
      "execution_count": null,
      "outputs": []
    },
    {
      "cell_type": "markdown",
      "source": [
        "#### Scrapeanje pomoću Beautiful Soupa"
      ],
      "metadata": {
        "id": "TqMYAECLhtGi"
      }
    },
    {
      "cell_type": "code",
      "source": [
        "from bs4 import BeautifulSoup\n",
        "soup = BeautifulSoup(response.text)\n",
        "\n",
        "print(\"Status odgovora: \", response.status_code)\n",
        "#print(\"Sadržaj odgovora: \", response.text)\n",
        "\n",
        "content = \"\".join([i.text for i in soup.find('div', class_=\"s-prose js-post-body\").find_all('p')])\n",
        "print(\"Sadržaj pitanja: \", content)"
      ],
      "metadata": {
        "colab": {
          "base_uri": "https://localhost:8080/"
        },
        "id": "7uYXt-YF1mps",
        "outputId": "fc4c9065-5eb2-416c-975e-54fc081d3636"
      },
      "execution_count": null,
      "outputs": [
        {
          "output_type": "stream",
          "name": "stdout",
          "text": [
            "Status odgovora:  200\n",
            "Sadržaj pitanja:  Grading currently either takes me a huge amount of time, or gets done in an extremely cursory way.  It occurs to me that, if my students were able to submit code into some sort of autotester, they would find many of their errors before I review their code.  This would mean that I would only have to look for clarity issues, not logic bugs.I am interested in software that (a) isn't too hard to set up, (b) will allow my students to test whether their code is (at least) to spec, and (c) allows me to quickly cycle through the code from all of the students in a section to look for style issues.I have looked far and wide, and have not yet found a reasonable system that accomplishes these three goals.  Many universities seem to have robust systems, but they all appear to be home-grown, and unavailable to outsiders.  Is anyone aware of such a system?  I honestly don't even care if it costs money - I just need a solution that makes this task more reasonable.\n"
          ]
        }
      ]
    },
    {
      "cell_type": "markdown",
      "source": [
        "\n",
        "\n",
        "> Značajke koje smo dobili scrapeanjem pomoću Beautiful soupa\n",
        "\n"
      ],
      "metadata": {
        "id": "ZhyVKvSsomK4"
      }
    },
    {
      "cell_type": "code",
      "source": [
        "scrapy_features_bs = pd.DataFrame({\"Pitanje ne postoji\": [0, 404, 'cijela html stranica', 'nepoznato', 'stranica ne postoji'],\n",
        "                   \"Pitanje je izbrisano\": [1, 404, 'cijela html stranica', 'nepoznato (postoji podatak o naslovu pitanja)', 'preusmjeravanje urla - pitanje je postojalo'],\n",
        "                   \"Pitanje postoji\": [2, 200, 'cijela html stranica', 'dohvaćen sadržaj pitanja', 'postoje podaci o pitanju']},\n",
        "                  [\"id\", \"response.status_code\", \"response.text\", \"question_content\", \"conclusion\"])"
      ],
      "metadata": {
        "id": "BqsqApCyomLc"
      },
      "execution_count": null,
      "outputs": []
    },
    {
      "cell_type": "code",
      "source": [
        "scrapy_features_bs.rename_axis(\"features\", axis=\"columns\")"
      ],
      "metadata": {
        "colab": {
          "base_uri": "https://localhost:8080/",
          "height": 206
        },
        "outputId": "949eaf2e-3026-4429-8d4e-d5abe3a2ae19",
        "id": "hmMSobdNomLf"
      },
      "execution_count": null,
      "outputs": [
        {
          "output_type": "execute_result",
          "data": {
            "text/html": [
              "\n",
              "  <div id=\"df-ee0e5082-fc27-4ee9-9c0d-a58a7e069430\">\n",
              "    <div class=\"colab-df-container\">\n",
              "      <div>\n",
              "<style scoped>\n",
              "    .dataframe tbody tr th:only-of-type {\n",
              "        vertical-align: middle;\n",
              "    }\n",
              "\n",
              "    .dataframe tbody tr th {\n",
              "        vertical-align: top;\n",
              "    }\n",
              "\n",
              "    .dataframe thead th {\n",
              "        text-align: right;\n",
              "    }\n",
              "</style>\n",
              "<table border=\"1\" class=\"dataframe\">\n",
              "  <thead>\n",
              "    <tr style=\"text-align: right;\">\n",
              "      <th>features</th>\n",
              "      <th>Pitanje ne postoji</th>\n",
              "      <th>Pitanje je izbrisano</th>\n",
              "      <th>Pitanje postoji</th>\n",
              "    </tr>\n",
              "  </thead>\n",
              "  <tbody>\n",
              "    <tr>\n",
              "      <th>id</th>\n",
              "      <td>0</td>\n",
              "      <td>1</td>\n",
              "      <td>2</td>\n",
              "    </tr>\n",
              "    <tr>\n",
              "      <th>response.status_code</th>\n",
              "      <td>404</td>\n",
              "      <td>404</td>\n",
              "      <td>200</td>\n",
              "    </tr>\n",
              "    <tr>\n",
              "      <th>response.text</th>\n",
              "      <td>cijela html stranica</td>\n",
              "      <td>cijela html stranica</td>\n",
              "      <td>cijeli html stranice</td>\n",
              "    </tr>\n",
              "    <tr>\n",
              "      <th>question_content</th>\n",
              "      <td>nepoznato</td>\n",
              "      <td>nepoznato (postoji podatak o naslovu pitanja)</td>\n",
              "      <td>dohvaćen sadržaj pitanja</td>\n",
              "    </tr>\n",
              "    <tr>\n",
              "      <th>conclusion</th>\n",
              "      <td>stranica ne postoji</td>\n",
              "      <td>preusmjeravanje urla - pitanje je postojalo</td>\n",
              "      <td>postoje podaci o pitanju</td>\n",
              "    </tr>\n",
              "  </tbody>\n",
              "</table>\n",
              "</div>\n",
              "      <button class=\"colab-df-convert\" onclick=\"convertToInteractive('df-ee0e5082-fc27-4ee9-9c0d-a58a7e069430')\"\n",
              "              title=\"Convert this dataframe to an interactive table.\"\n",
              "              style=\"display:none;\">\n",
              "        \n",
              "  <svg xmlns=\"http://www.w3.org/2000/svg\" height=\"24px\"viewBox=\"0 0 24 24\"\n",
              "       width=\"24px\">\n",
              "    <path d=\"M0 0h24v24H0V0z\" fill=\"none\"/>\n",
              "    <path d=\"M18.56 5.44l.94 2.06.94-2.06 2.06-.94-2.06-.94-.94-2.06-.94 2.06-2.06.94zm-11 1L8.5 8.5l.94-2.06 2.06-.94-2.06-.94L8.5 2.5l-.94 2.06-2.06.94zm10 10l.94 2.06.94-2.06 2.06-.94-2.06-.94-.94-2.06-.94 2.06-2.06.94z\"/><path d=\"M17.41 7.96l-1.37-1.37c-.4-.4-.92-.59-1.43-.59-.52 0-1.04.2-1.43.59L10.3 9.45l-7.72 7.72c-.78.78-.78 2.05 0 2.83L4 21.41c.39.39.9.59 1.41.59.51 0 1.02-.2 1.41-.59l7.78-7.78 2.81-2.81c.8-.78.8-2.07 0-2.86zM5.41 20L4 18.59l7.72-7.72 1.47 1.35L5.41 20z\"/>\n",
              "  </svg>\n",
              "      </button>\n",
              "      \n",
              "  <style>\n",
              "    .colab-df-container {\n",
              "      display:flex;\n",
              "      flex-wrap:wrap;\n",
              "      gap: 12px;\n",
              "    }\n",
              "\n",
              "    .colab-df-convert {\n",
              "      background-color: #E8F0FE;\n",
              "      border: none;\n",
              "      border-radius: 50%;\n",
              "      cursor: pointer;\n",
              "      display: none;\n",
              "      fill: #1967D2;\n",
              "      height: 32px;\n",
              "      padding: 0 0 0 0;\n",
              "      width: 32px;\n",
              "    }\n",
              "\n",
              "    .colab-df-convert:hover {\n",
              "      background-color: #E2EBFA;\n",
              "      box-shadow: 0px 1px 2px rgba(60, 64, 67, 0.3), 0px 1px 3px 1px rgba(60, 64, 67, 0.15);\n",
              "      fill: #174EA6;\n",
              "    }\n",
              "\n",
              "    [theme=dark] .colab-df-convert {\n",
              "      background-color: #3B4455;\n",
              "      fill: #D2E3FC;\n",
              "    }\n",
              "\n",
              "    [theme=dark] .colab-df-convert:hover {\n",
              "      background-color: #434B5C;\n",
              "      box-shadow: 0px 1px 3px 1px rgba(0, 0, 0, 0.15);\n",
              "      filter: drop-shadow(0px 1px 2px rgba(0, 0, 0, 0.3));\n",
              "      fill: #FFFFFF;\n",
              "    }\n",
              "  </style>\n",
              "\n",
              "      <script>\n",
              "        const buttonEl =\n",
              "          document.querySelector('#df-ee0e5082-fc27-4ee9-9c0d-a58a7e069430 button.colab-df-convert');\n",
              "        buttonEl.style.display =\n",
              "          google.colab.kernel.accessAllowed ? 'block' : 'none';\n",
              "\n",
              "        async function convertToInteractive(key) {\n",
              "          const element = document.querySelector('#df-ee0e5082-fc27-4ee9-9c0d-a58a7e069430');\n",
              "          const dataTable =\n",
              "            await google.colab.kernel.invokeFunction('convertToInteractive',\n",
              "                                                     [key], {});\n",
              "          if (!dataTable) return;\n",
              "\n",
              "          const docLinkHtml = 'Like what you see? Visit the ' +\n",
              "            '<a target=\"_blank\" href=https://colab.research.google.com/notebooks/data_table.ipynb>data table notebook</a>'\n",
              "            + ' to learn more about interactive tables.';\n",
              "          element.innerHTML = '';\n",
              "          dataTable['output_type'] = 'display_data';\n",
              "          await google.colab.output.renderOutput(dataTable, element);\n",
              "          const docLink = document.createElement('div');\n",
              "          docLink.innerHTML = docLinkHtml;\n",
              "          element.appendChild(docLink);\n",
              "        }\n",
              "      </script>\n",
              "    </div>\n",
              "  </div>\n",
              "  "
            ],
            "text/plain": [
              "features                Pitanje ne postoji  ...           Pitanje postoji\n",
              "id                                       0  ...                         2\n",
              "response.status_code                   404  ...                       200\n",
              "response.text         cijela html stranica  ...      cijeli html stranice\n",
              "question_content                 nepoznato  ...  dohvaćen sadržaj pitanja\n",
              "conclusion             stranica ne postoji  ...  postoje podaci o pitanju\n",
              "\n",
              "[5 rows x 3 columns]"
            ]
          },
          "metadata": {},
          "execution_count": 9
        }
      ]
    },
    {
      "cell_type": "markdown",
      "source": [
        "\n",
        "\n",
        "> **Odluka**: koristiti će se Beautiful soup jer se mogu dobiti cijele html stranice u *response* objektu te iz njih dohvaćati podatke ovisno o tome da li pitanje postoji, izbrisano je ili ne postoji za razliku od scrapyja koji ne vraća html stranice ako je *status_code* 404. ❗\n",
        "\n"
      ],
      "metadata": {
        "id": "kv89YAP7p0Wm"
      }
    },
    {
      "cell_type": "markdown",
      "source": [
        "#### Dohvaćanje podataka"
      ],
      "metadata": {
        "id": "lII2bxFqsOWZ"
      }
    },
    {
      "cell_type": "code",
      "execution_count": 3,
      "metadata": {
        "id": "5FPIrnPOP_su"
      },
      "outputs": [],
      "source": [
        "# biblioteke\n",
        "import requests\n",
        "from bs4 import BeautifulSoup\n",
        "import pandas as pd\n",
        "import time\n",
        "import re"
      ]
    },
    {
      "cell_type": "code",
      "source": [
        "clean = re.compile('<.*?>')"
      ],
      "metadata": {
        "id": "DR2fj_s52UWj"
      },
      "execution_count": 4,
      "outputs": []
    },
    {
      "cell_type": "markdown",
      "source": [
        "> Ukupan broj pitanja koje sadrži Stack Exchange - CSE stranica"
      ],
      "metadata": {
        "id": "DpnY8Rkhsa0B"
      }
    },
    {
      "cell_type": "code",
      "execution_count": 5,
      "metadata": {
        "colab": {
          "base_uri": "https://localhost:8080/"
        },
        "id": "3-HratNcheiT",
        "outputId": "da6dbc88-91ad-462f-83a3-c4f304043a73"
      },
      "outputs": [
        {
          "output_type": "stream",
          "name": "stdout",
          "text": [
            "Ukupan broj pitanja:  1,038\r\n",
            "\n"
          ]
        }
      ],
      "source": [
        "response = requests.get(\"https://cseducators.stackexchange.com/questions/\")\n",
        "soup = BeautifulSoup(response.text)\n",
        "number_of_questions = soup.find(\"div\",class_=\"fs-body3 flex--item fl1 mr12 sm:mr0 sm:mb12\").text.strip().split(\" \")[0]\n",
        "print(\"Ukupan broj pitanja: \", number_of_questions)"
      ]
    },
    {
      "cell_type": "markdown",
      "source": [
        "\n",
        "\n",
        "> ID posljednjeg pitanja na stranici\n",
        "\n"
      ],
      "metadata": {
        "id": "vnXKHT_YtS83"
      }
    },
    {
      "cell_type": "code",
      "source": [
        "last_question_id = soup.find(\"div\",\"question-summary\").get(\"id\")[-4:]\n",
        "print(\"Id posljednjeg pitanja je:\", last_question_id)"
      ],
      "metadata": {
        "colab": {
          "base_uri": "https://localhost:8080/"
        },
        "id": "9hr7WBjAC59T",
        "outputId": "51cb9ea9-3353-4383-93f5-8ab6e9145f3b"
      },
      "execution_count": 6,
      "outputs": [
        {
          "output_type": "stream",
          "name": "stdout",
          "text": [
            "Id posljednjeg pitanja je: 7248\n"
          ]
        }
      ]
    },
    {
      "cell_type": "markdown",
      "source": [
        "> Klasifikacija podataka\n",
        "\n"
      ],
      "metadata": {
        "id": "ZseTbYay0lVn"
      }
    },
    {
      "cell_type": "code",
      "source": [
        "question_classification = pd.DataFrame({\"Nepostojeće pitanje\": [0, 'https://cseducators.stackexchange.com/questions/0', 'https://cseducators.stackexchange.com/questions/0', '404', 'Stranica ne postoji.'],\n",
        "                   \"Izbrisano pitanje\": [1, 'https://cseducators.stackexchange.com/questions/1', 'https://cseducators.stackexchange.com/questions/1/what-language-should-be-first-used-to-introduce-coding', '404', 'Informacija o brisanju pitanja.'],\n",
        "                   \"Postojeće pitanje\": [2, 'https://cseducators.stackexchange.com/questions/2', 'https://cseducators.stackexchange.com/questions/2', '200', 'Podaci o pitanju.'],\n",
        "                   \"Odgovor\": [10, 'https://cseducators.stackexchange.com/questions/10', 'https://cseducators.stackexchange.com/questions/3/is-it-possible-to-ensure-division-of-labor-on-a-group-assignment/10#10', '200', 'Podaci o odgovoru.'],\n",
        "                   \"Tag\": [15, 'https://cseducators.stackexchange.com/questions/15', 'https://cseducators.stackexchange.com/tags/java/info', '200', 'Podaci o tagu.'],\n",
        "                   \"Preusmjeravanje na već postojeće pitanje\": [88, 'https://cseducators.stackexchange.com/questions/88', 'https://cseducators.stackexchange.com/questions/69/how-can-i-integrate-teaching-source-code-control-git-mercurial-etc-into-my-int/88#88', '200', 'Podaci o već postojećem pitanju.'],\n",
        "                   \"Preusmjeravanje na već izbrisano pitanje\": [3400, 'https://cseducators.stackexchange.com/questions/3400', 'https://cseducators.stackexchange.com/questions/3397/how-to-setup-python-to-repr-string-literals-with-double-quotes-when-possible/3400', '404', 'Stranica ne postoji.']},\n",
        "                  [\"id\", \"link\", \"get_link\", \"status_code\", \"message\"])"
      ],
      "metadata": {
        "id": "yoQsko72ucPT"
      },
      "execution_count": null,
      "outputs": []
    },
    {
      "cell_type": "code",
      "source": [
        "question_classification"
      ],
      "metadata": {
        "colab": {
          "base_uri": "https://localhost:8080/",
          "height": 270
        },
        "id": "sBPsNyF5ymvF",
        "outputId": "8f674c06-b073-44f3-d7f4-ce7cf81f580c"
      },
      "execution_count": null,
      "outputs": [
        {
          "output_type": "execute_result",
          "data": {
            "text/html": [
              "\n",
              "  <div id=\"df-d2a3184e-6118-4ae2-87fd-9904239be5f5\">\n",
              "    <div class=\"colab-df-container\">\n",
              "      <div>\n",
              "<style scoped>\n",
              "    .dataframe tbody tr th:only-of-type {\n",
              "        vertical-align: middle;\n",
              "    }\n",
              "\n",
              "    .dataframe tbody tr th {\n",
              "        vertical-align: top;\n",
              "    }\n",
              "\n",
              "    .dataframe thead th {\n",
              "        text-align: right;\n",
              "    }\n",
              "</style>\n",
              "<table border=\"1\" class=\"dataframe\">\n",
              "  <thead>\n",
              "    <tr style=\"text-align: right;\">\n",
              "      <th></th>\n",
              "      <th>Nepostojeće pitanje</th>\n",
              "      <th>Izbrisano pitanje</th>\n",
              "      <th>Postojeće pitanje</th>\n",
              "      <th>Odgovor</th>\n",
              "      <th>Tag</th>\n",
              "      <th>Preusmjeravanje na već postojeće pitanje</th>\n",
              "      <th>Preusmjeravanje na već izbrisano pitanje</th>\n",
              "    </tr>\n",
              "  </thead>\n",
              "  <tbody>\n",
              "    <tr>\n",
              "      <th>id</th>\n",
              "      <td>0</td>\n",
              "      <td>1</td>\n",
              "      <td>2</td>\n",
              "      <td>10</td>\n",
              "      <td>15</td>\n",
              "      <td>88</td>\n",
              "      <td>3400</td>\n",
              "    </tr>\n",
              "    <tr>\n",
              "      <th>link</th>\n",
              "      <td>https://cseducators.stackexchange.com/questions/0</td>\n",
              "      <td>https://cseducators.stackexchange.com/questions/1</td>\n",
              "      <td>https://cseducators.stackexchange.com/questions/2</td>\n",
              "      <td>https://cseducators.stackexchange.com/question...</td>\n",
              "      <td>https://cseducators.stackexchange.com/question...</td>\n",
              "      <td>https://cseducators.stackexchange.com/question...</td>\n",
              "      <td>https://cseducators.stackexchange.com/question...</td>\n",
              "    </tr>\n",
              "    <tr>\n",
              "      <th>get_link</th>\n",
              "      <td>https://cseducators.stackexchange.com/questions/0</td>\n",
              "      <td>https://cseducators.stackexchange.com/question...</td>\n",
              "      <td>https://cseducators.stackexchange.com/questions/2</td>\n",
              "      <td>https://cseducators.stackexchange.com/question...</td>\n",
              "      <td>https://cseducators.stackexchange.com/tags/jav...</td>\n",
              "      <td>https://cseducators.stackexchange.com/question...</td>\n",
              "      <td>https://cseducators.stackexchange.com/question...</td>\n",
              "    </tr>\n",
              "    <tr>\n",
              "      <th>status_code</th>\n",
              "      <td>404</td>\n",
              "      <td>404</td>\n",
              "      <td>200</td>\n",
              "      <td>200</td>\n",
              "      <td>200</td>\n",
              "      <td>200</td>\n",
              "      <td>404</td>\n",
              "    </tr>\n",
              "    <tr>\n",
              "      <th>message</th>\n",
              "      <td>Stranica ne postoji.</td>\n",
              "      <td>Informacija o brisanju pitanja.</td>\n",
              "      <td>Podaci o pitanju.</td>\n",
              "      <td>Podaci o odgovoru.</td>\n",
              "      <td>Podaci o tagu.</td>\n",
              "      <td>Podaci o već postojećem pitanju.</td>\n",
              "      <td>Stranica ne postoji.</td>\n",
              "    </tr>\n",
              "  </tbody>\n",
              "</table>\n",
              "</div>\n",
              "      <button class=\"colab-df-convert\" onclick=\"convertToInteractive('df-d2a3184e-6118-4ae2-87fd-9904239be5f5')\"\n",
              "              title=\"Convert this dataframe to an interactive table.\"\n",
              "              style=\"display:none;\">\n",
              "        \n",
              "  <svg xmlns=\"http://www.w3.org/2000/svg\" height=\"24px\"viewBox=\"0 0 24 24\"\n",
              "       width=\"24px\">\n",
              "    <path d=\"M0 0h24v24H0V0z\" fill=\"none\"/>\n",
              "    <path d=\"M18.56 5.44l.94 2.06.94-2.06 2.06-.94-2.06-.94-.94-2.06-.94 2.06-2.06.94zm-11 1L8.5 8.5l.94-2.06 2.06-.94-2.06-.94L8.5 2.5l-.94 2.06-2.06.94zm10 10l.94 2.06.94-2.06 2.06-.94-2.06-.94-.94-2.06-.94 2.06-2.06.94z\"/><path d=\"M17.41 7.96l-1.37-1.37c-.4-.4-.92-.59-1.43-.59-.52 0-1.04.2-1.43.59L10.3 9.45l-7.72 7.72c-.78.78-.78 2.05 0 2.83L4 21.41c.39.39.9.59 1.41.59.51 0 1.02-.2 1.41-.59l7.78-7.78 2.81-2.81c.8-.78.8-2.07 0-2.86zM5.41 20L4 18.59l7.72-7.72 1.47 1.35L5.41 20z\"/>\n",
              "  </svg>\n",
              "      </button>\n",
              "      \n",
              "  <style>\n",
              "    .colab-df-container {\n",
              "      display:flex;\n",
              "      flex-wrap:wrap;\n",
              "      gap: 12px;\n",
              "    }\n",
              "\n",
              "    .colab-df-convert {\n",
              "      background-color: #E8F0FE;\n",
              "      border: none;\n",
              "      border-radius: 50%;\n",
              "      cursor: pointer;\n",
              "      display: none;\n",
              "      fill: #1967D2;\n",
              "      height: 32px;\n",
              "      padding: 0 0 0 0;\n",
              "      width: 32px;\n",
              "    }\n",
              "\n",
              "    .colab-df-convert:hover {\n",
              "      background-color: #E2EBFA;\n",
              "      box-shadow: 0px 1px 2px rgba(60, 64, 67, 0.3), 0px 1px 3px 1px rgba(60, 64, 67, 0.15);\n",
              "      fill: #174EA6;\n",
              "    }\n",
              "\n",
              "    [theme=dark] .colab-df-convert {\n",
              "      background-color: #3B4455;\n",
              "      fill: #D2E3FC;\n",
              "    }\n",
              "\n",
              "    [theme=dark] .colab-df-convert:hover {\n",
              "      background-color: #434B5C;\n",
              "      box-shadow: 0px 1px 3px 1px rgba(0, 0, 0, 0.15);\n",
              "      filter: drop-shadow(0px 1px 2px rgba(0, 0, 0, 0.3));\n",
              "      fill: #FFFFFF;\n",
              "    }\n",
              "  </style>\n",
              "\n",
              "      <script>\n",
              "        const buttonEl =\n",
              "          document.querySelector('#df-d2a3184e-6118-4ae2-87fd-9904239be5f5 button.colab-df-convert');\n",
              "        buttonEl.style.display =\n",
              "          google.colab.kernel.accessAllowed ? 'block' : 'none';\n",
              "\n",
              "        async function convertToInteractive(key) {\n",
              "          const element = document.querySelector('#df-d2a3184e-6118-4ae2-87fd-9904239be5f5');\n",
              "          const dataTable =\n",
              "            await google.colab.kernel.invokeFunction('convertToInteractive',\n",
              "                                                     [key], {});\n",
              "          if (!dataTable) return;\n",
              "\n",
              "          const docLinkHtml = 'Like what you see? Visit the ' +\n",
              "            '<a target=\"_blank\" href=https://colab.research.google.com/notebooks/data_table.ipynb>data table notebook</a>'\n",
              "            + ' to learn more about interactive tables.';\n",
              "          element.innerHTML = '';\n",
              "          dataTable['output_type'] = 'display_data';\n",
              "          await google.colab.output.renderOutput(dataTable, element);\n",
              "          const docLink = document.createElement('div');\n",
              "          docLink.innerHTML = docLinkHtml;\n",
              "          element.appendChild(docLink);\n",
              "        }\n",
              "      </script>\n",
              "    </div>\n",
              "  </div>\n",
              "  "
            ],
            "text/plain": [
              "                                           Nepostojeće pitanje  ...           Preusmjeravanje na već izbrisano pitanje\n",
              "id                                                           0  ...                                               3400\n",
              "link         https://cseducators.stackexchange.com/questions/0  ...  https://cseducators.stackexchange.com/question...\n",
              "get_link     https://cseducators.stackexchange.com/questions/0  ...  https://cseducators.stackexchange.com/question...\n",
              "status_code                                                404  ...                                                404\n",
              "message                                   Stranica ne postoji.  ...                               Stranica ne postoji.\n",
              "\n",
              "[5 rows x 7 columns]"
            ]
          },
          "metadata": {},
          "execution_count": 20
        }
      ]
    },
    {
      "cell_type": "code",
      "source": [
        "list_wiki = []\n",
        "list_answers = []\n",
        "list_questions = []"
      ],
      "metadata": {
        "id": "H74HcqVUNLNp"
      },
      "execution_count": null,
      "outputs": []
    },
    {
      "cell_type": "markdown",
      "source": [
        "> ❗ Fokus je dohvatiti **sva pitanja** pa raspon id-jeva slijedi od 0 do last_question_id + 1 \n",
        "\n",
        "> Budući plan je nadograditi program na način da se dohvaćaju svi odgovori, pitanja, tagovi i dr. 💡"
      ],
      "metadata": {
        "id": "zxTq32Fu3TIw"
      }
    },
    {
      "cell_type": "code",
      "execution_count": null,
      "metadata": {
        "id": "g1XzBpRwQKdI"
      },
      "outputs": [],
      "source": [
        "#Kreiramo listu za sve podatke koje cemo spremati (wiki stranicu, stranicu sa odgovorima, stranicu sa pitanjima)\n",
        "\n",
        "for i in range(0, int(last_question_id)+1):\n",
        "    link = ('https://cseducators.stackexchange.com/questions/'+str(i))\n",
        "    response = requests.get(link)\n",
        "    soup = BeautifulSoup(response.text)\n",
        "\n",
        "    get_link = soup.find(\"meta\", property=\"og:url\")[\"content\"]\n",
        "    tab_title = soup.find(\"title\").text\n",
        "\n",
        "    print(\"Status code:\", response.status_code)\n",
        "\n",
        "    question_existed = False\n",
        "\n",
        "    #Slucaj kada ne postoji stranica\n",
        "    if (response.status_code == 404):\n",
        "      \n",
        "      #Slucaj kada id ne postoji\n",
        "      if (link == get_link):\n",
        "        page_answer = re.sub(clean, '', str(soup.find(\"div\",class_=\"fs-subheading mb24\").find_all('p')[0]).replace(\"<p>\",\"\").replace(\"</p>\",\"\"))\n",
        "        print(\"Id nepostojećeg pitanja:\",i,\"\\nLink stranice:\", get_link,\"\\nOdgovor stranice:\", page_answer,\"\\n\")\n",
        "\n",
        "      #Slucaj kada je pitanje obrisano\n",
        "      else:\n",
        "        question_existed = True\n",
        "        title = (get_link.split(\"/\")[-1].replace(\"-\",\" \")).capitalize()\n",
        "        \n",
        "        if (title[-4:] != str(i)):\n",
        "        \n",
        "          info = \" \".join(str(soup.find(\"div\",class_=\"fs-subheading mb24\").find_all('p')[0]).replace(\"<p>\",\"\").replace(\"</p>\",\"\").split(\" \")[:3])\n",
        "          info_comment = (soup.find(\"span\",class_=\"revision-comment\").text)\n",
        "          print(\"Id izbrisanog pitanja:\",i,\"\\nLink stranice:\",get_link,\"\\nNaslov pitanja koje je obrisano:\",title,\"\\nObavijest o pitanju:\",info,info_comment,\"\\nPitanje je postojalo: \", question_existed, \"\\n\")\n",
        "          \n",
        "          question = [i, title, \"-\", \"-\", \"-\", \"-\", \"-\", \"-\", \"-\", \"-\", \"-\", \"-\", question_existed]\n",
        "          list_questions.append(question)\n",
        "\n",
        "        else:\n",
        "          print(\"Id:\", i, \"\\nPreusmjeravanje na pitanje s id koje je već izbrisano.\")\n",
        "\n",
        "    #Slucaj kada smo dobili podatak sa razlicitim id-em kojeg smo poslali\n",
        "    else:\n",
        "\n",
        "      if(link not in get_link):\n",
        "\n",
        "        #Slucaj kada stranica koju smo dohvatili je wiki stranica\n",
        "        if (\"/tags/\" in str(get_link)):\n",
        "          print(\"Id wiki taga: \", i)\n",
        "\n",
        "          title = (tab_title.split(\"'\")[1]+ \" \"+tab_title.split(\"'\")[2].split(\" \")[1]+\" \"+tab_title.split(\"'\")[2].split(\" \")[2]).capitalize()\n",
        "          info = str(\"\".join([i.text for i in soup.find(\"div\",class_=\"welovestackoverflow\").find_all('p')])).strip()\n",
        "          wiki = [i,title, info]\n",
        "\n",
        "          #Spremamo sve naslove iz liste koji postoje te provjeravamo je li trenutni naslov vec postoji u listi\n",
        "          wiki_titles = [i[1] for i in list_wiki]\n",
        "\n",
        "          if (wiki[1] not in wiki_titles):\n",
        "            list_wiki.append(wiki)\n",
        "\n",
        "        else:\n",
        "          #Slucaj kada smo dobili odgovor na pitanje\n",
        "          print(\"Id odgovora na pitanje:\", i)\n",
        "          try:\n",
        "            #Trazimo postoji li nase pitanje u podacima koje smo dobili i dohvacamo onda njegove podatke\n",
        "            page_answer = soup.find(\"div\", {\"data-answerid\":i})\n",
        "            #Id pitanja\n",
        "            id_question = get_link.split('/')[4]\n",
        "\n",
        "            #Pokusavamo dohvatiti naslov pitanja(boldani dio teksta), a ako ga nema onda je None\n",
        "            try:\n",
        "              title = str(page_answer.find(\"div\",class_=\"s-prose js-post-body\").find(\"p\").find(\"strong\")).replace(\"<strong>\",\"\").replace(\"</strong>\",\"\")\n",
        "            except AttributeError:\n",
        "              title = \"None\"\n",
        "            \n",
        "            content = \"\".join([i.text for i in soup.find('div', {\"id\": \"answer-\"+str(i)}).find_all('div', class_=\"s-prose js-post-body\")]).replace(\"\\n\", \" \")\n",
        "\n",
        "            #Pokusavamo dohvatiti id user-a (autora odgovora), a ako ga nema onda spremamo None\n",
        "            try:\n",
        "              user_id = page_answer.find(\"div\",{\"itemprop\":\"author\"}).find(\"a\")['href'].split('/')[2]\n",
        "            except TypeError:\n",
        "              user_id = \"None\"\n",
        "            \n",
        "            #datum kada je kreiran odgovor\n",
        "            date = str(page_answer.find(\"span\",class_=\"relativetime\")[\"title\"]).replace(\"Z\",\"\")\n",
        "            \n",
        "            #Broj vote-ova na odgovoru\n",
        "            try:\n",
        "              votes = page_answer.find(\"div\", class_=\"js-vote-count flex--item d-flex fd-column ai-center fc-black-500 fs-title\")[\"data-value\"]\n",
        "            except TypeError:\n",
        "              votes = page_answer.find(\"div\",class_=\"js-vote-count fs-title lh-md mb8 ta-center\")[\"data-value\"]\n",
        "\n",
        "            answer = [i, title, content, user_id, date, votes, id_question]\n",
        "            list_answers.append(answer)\n",
        "\n",
        "          #Slucaj kada smo dobili pitanje koje vec postoji pod drugim id-em\n",
        "          except AttributeError:\n",
        "            id = get_link.split(\"/\")[4]\n",
        "            print(\"Poslani id\", i ,\"postoji već za pitanje sa id-em\", id)\n",
        "\n",
        "      #Slucaj kada smo dobili pitanje i sve njegove podatke\n",
        "      else:\n",
        "        print(\"Id pitanja:\", i)\n",
        "        \n",
        "        title = \"\".join([i.text for i in soup.find('h1', class_=\"fs-headline1 ow-break-word mb8 flex--item fl1\").find_all('a')])\n",
        "        content = \"\".join([i.text for i in soup.find('div', class_=\"s-prose js-post-body\").find_all('p')])\n",
        "        created_at = (\"\".join([i['datetime'] for i in soup.find('div', class_=\"flex--item ws-nowrap mr16 mb8\").find_all('time')])).replace(\"T\",\" \")\n",
        "\n",
        "        #Dohvacamo user id, a ako ga nema onda postavljamo u None\n",
        "        try:\n",
        "          user_id = (\"\".join([i['href'] for i in soup.find('div', class_=\"post-signature owner flex--item\").find(class_=\"user-details\").find_all('a')])).split(\"/\")[2]\n",
        "        except IndexError:\n",
        "          user_id = \"None\"\n",
        "        views_count = (\"\".join([i for i in soup.find('div', class_=\"d-flex fw-wrap pb8 mb16 bb bc-black-075\").find('div',class_=\"flex--item ws-nowrap mb8\")['title']])).split(\" \")[1]\n",
        "        \n",
        "        try:\n",
        "          votes_count = \"\".join([i for i in soup.find('div', class_=\"js-vote-count flex--item d-flex fd-column ai-center fc-black-500 fs-title\")['data-value']])\n",
        "        except TypeError:\n",
        "          votes_count = \"\".join([i for i in soup.find('div', class_=\"js-vote-count fs-title lh-md mb8 ta-center\")['data-value']])\n",
        "\n",
        "        #Dohvacamo broj bookmarks-a, a ukoliko ih nema onda spremamo 0\n",
        "        try:\n",
        "          bookmarks_count = \"\".join([i for i in soup.find('div', class_=\"js-bookmark-count mt4\")['data-value']])\n",
        "        except TypeError:\n",
        "          bookmarks_count = \"\".join([i for i in soup.find('div', class_=\"js-bookmark-count mt4 d-none\")])\n",
        "          bookmarks_count = (0 if bookmarks_count == \"\" else 0)\n",
        "\n",
        "        answers_count = \"\".join([i['data-answercount'] for i in soup.find('div', class_=\"answers-subheader d-flex ai-center mb8\").find_all('h2')])\n",
        "        tags = (\"\".join([(i.text+\"\\t\") for i in soup.find('div', class_=\"d-flex ps-relative fw-wrap\").find_all('a')])).split(\"\\t\")[:-1]\n",
        "        comment_count = len(([i for i in soup.find(\"div\",class_=\"post-layout\").find(\"ul\",class_=\"comments-list js-comments-list\").find_all(\"li\")]))+int([soup.find(\"div\",class_=\"post-layout\").find('ul',class_=\"comments-list js-comments-list\")[\"data-remaining-comments-count\"]][0])\n",
        "        is_answered = (True if int(answers_count) > 0 else False)\n",
        "        question = [i, title, content, created_at, user_id, is_answered, views_count, votes_count, bookmarks_count, answers_count, tags, comment_count, question_existed]\n",
        "        list_questions.append(question)\n",
        "\n",
        "    if (i!=0 and i % 20 == 0):\n",
        "      time.sleep(45)"
      ]
    },
    {
      "cell_type": "code",
      "source": [
        "print(\"Duljina liste tagova:\", len(list_wiki)) \n",
        "print(\"Duljina liste pitanja:\", len(list_questions)) \n",
        "print(\"Duljina liste odgovora:\", len(list_answers))"
      ],
      "metadata": {
        "colab": {
          "base_uri": "https://localhost:8080/"
        },
        "id": "_X41SBCqfpXT",
        "outputId": "7da21596-88e6-4901-aa68-36543b9fd810"
      },
      "execution_count": null,
      "outputs": [
        {
          "output_type": "stream",
          "name": "stdout",
          "text": [
            "Duljina liste tagova: 204\n",
            "Duljina liste pitanja: 1332\n",
            "Duljina liste odgovora: 4192\n"
          ]
        }
      ]
    },
    {
      "cell_type": "code",
      "source": [
        "#Spremamo liste u dataframe\n",
        "data_wiki = pd.DataFrame(list_wiki, columns = ['Tag_ID','Title', 'Info'])\n",
        "data_questions = pd.DataFrame(list_questions, columns=['Question_ID','Title','Content','Created at','User_ID','Is answered','Views count','Votes count','Bookmarks count','Answers count','Tags','Comments count', \"Question existed\"])\n",
        "data_answers = pd.DataFrame(list_answers, columns = ['Answer_ID','Title', 'Content','User_ID','Date','Votes','Question_ID'])"
      ],
      "metadata": {
        "id": "9-3F9rxY1Ljy"
      },
      "execution_count": null,
      "outputs": []
    },
    {
      "cell_type": "code",
      "source": [
        "print(\"Ukupan broj dohvaćenih pitanja:\", data_questions.loc[data_questions['Question existed'] == False].shape[0])"
      ],
      "metadata": {
        "colab": {
          "base_uri": "https://localhost:8080/"
        },
        "id": "SLL5EaAzWkf9",
        "outputId": "8e4d57cd-af39-457c-bd95-2fe84a1eb635"
      },
      "execution_count": null,
      "outputs": [
        {
          "output_type": "stream",
          "name": "stdout",
          "text": [
            "Ukupan broj dohvaćenih pitanja: 1036\n"
          ]
        }
      ]
    },
    {
      "cell_type": "markdown",
      "source": [
        "> Dohvaćeni podaci prikazani pomoću DataFramea"
      ],
      "metadata": {
        "id": "pKOlPdb51Wud"
      }
    },
    {
      "cell_type": "code",
      "execution_count": null,
      "metadata": {
        "colab": {
          "base_uri": "https://localhost:8080/",
          "height": 206
        },
        "id": "0zHROsumVf8f",
        "outputId": "6911741f-7ba8-4590-b42f-6ae69b8f26c1"
      },
      "outputs": [
        {
          "output_type": "execute_result",
          "data": {
            "text/html": [
              "\n",
              "  <div id=\"df-471a5ec1-d517-4b30-9550-543f963cf006\">\n",
              "    <div class=\"colab-df-container\">\n",
              "      <div>\n",
              "<style scoped>\n",
              "    .dataframe tbody tr th:only-of-type {\n",
              "        vertical-align: middle;\n",
              "    }\n",
              "\n",
              "    .dataframe tbody tr th {\n",
              "        vertical-align: top;\n",
              "    }\n",
              "\n",
              "    .dataframe thead th {\n",
              "        text-align: right;\n",
              "    }\n",
              "</style>\n",
              "<table border=\"1\" class=\"dataframe\">\n",
              "  <thead>\n",
              "    <tr style=\"text-align: right;\">\n",
              "      <th></th>\n",
              "      <th>Tag_ID</th>\n",
              "      <th>Title</th>\n",
              "      <th>Info</th>\n",
              "    </tr>\n",
              "  </thead>\n",
              "  <tbody>\n",
              "    <tr>\n",
              "      <th>199</th>\n",
              "      <td>6345</td>\n",
              "      <td>Programming tag wiki</td>\n",
              "      <td>For questions about teaching programming (as o...</td>\n",
              "    </tr>\n",
              "    <tr>\n",
              "      <th>200</th>\n",
              "      <td>6479</td>\n",
              "      <td>Twos-complement tag wiki</td>\n",
              "      <td>Concerning the two's complement representation...</td>\n",
              "    </tr>\n",
              "    <tr>\n",
              "      <th>201</th>\n",
              "      <td>6677</td>\n",
              "      <td>Classroom-environment tag wiki</td>\n",
              "      <td>The Classroom Environment pertains to things l...</td>\n",
              "    </tr>\n",
              "    <tr>\n",
              "      <th>202</th>\n",
              "      <td>6893</td>\n",
              "      <td>Course-design tag wiki</td>\n",
              "      <td>For questions related to the design of a singl...</td>\n",
              "    </tr>\n",
              "    <tr>\n",
              "      <th>203</th>\n",
              "      <td>6917</td>\n",
              "      <td>Mentoring tag wiki</td>\n",
              "      <td>Questions related to mentoring students studyi...</td>\n",
              "    </tr>\n",
              "  </tbody>\n",
              "</table>\n",
              "</div>\n",
              "      <button class=\"colab-df-convert\" onclick=\"convertToInteractive('df-471a5ec1-d517-4b30-9550-543f963cf006')\"\n",
              "              title=\"Convert this dataframe to an interactive table.\"\n",
              "              style=\"display:none;\">\n",
              "        \n",
              "  <svg xmlns=\"http://www.w3.org/2000/svg\" height=\"24px\"viewBox=\"0 0 24 24\"\n",
              "       width=\"24px\">\n",
              "    <path d=\"M0 0h24v24H0V0z\" fill=\"none\"/>\n",
              "    <path d=\"M18.56 5.44l.94 2.06.94-2.06 2.06-.94-2.06-.94-.94-2.06-.94 2.06-2.06.94zm-11 1L8.5 8.5l.94-2.06 2.06-.94-2.06-.94L8.5 2.5l-.94 2.06-2.06.94zm10 10l.94 2.06.94-2.06 2.06-.94-2.06-.94-.94-2.06-.94 2.06-2.06.94z\"/><path d=\"M17.41 7.96l-1.37-1.37c-.4-.4-.92-.59-1.43-.59-.52 0-1.04.2-1.43.59L10.3 9.45l-7.72 7.72c-.78.78-.78 2.05 0 2.83L4 21.41c.39.39.9.59 1.41.59.51 0 1.02-.2 1.41-.59l7.78-7.78 2.81-2.81c.8-.78.8-2.07 0-2.86zM5.41 20L4 18.59l7.72-7.72 1.47 1.35L5.41 20z\"/>\n",
              "  </svg>\n",
              "      </button>\n",
              "      \n",
              "  <style>\n",
              "    .colab-df-container {\n",
              "      display:flex;\n",
              "      flex-wrap:wrap;\n",
              "      gap: 12px;\n",
              "    }\n",
              "\n",
              "    .colab-df-convert {\n",
              "      background-color: #E8F0FE;\n",
              "      border: none;\n",
              "      border-radius: 50%;\n",
              "      cursor: pointer;\n",
              "      display: none;\n",
              "      fill: #1967D2;\n",
              "      height: 32px;\n",
              "      padding: 0 0 0 0;\n",
              "      width: 32px;\n",
              "    }\n",
              "\n",
              "    .colab-df-convert:hover {\n",
              "      background-color: #E2EBFA;\n",
              "      box-shadow: 0px 1px 2px rgba(60, 64, 67, 0.3), 0px 1px 3px 1px rgba(60, 64, 67, 0.15);\n",
              "      fill: #174EA6;\n",
              "    }\n",
              "\n",
              "    [theme=dark] .colab-df-convert {\n",
              "      background-color: #3B4455;\n",
              "      fill: #D2E3FC;\n",
              "    }\n",
              "\n",
              "    [theme=dark] .colab-df-convert:hover {\n",
              "      background-color: #434B5C;\n",
              "      box-shadow: 0px 1px 3px 1px rgba(0, 0, 0, 0.15);\n",
              "      filter: drop-shadow(0px 1px 2px rgba(0, 0, 0, 0.3));\n",
              "      fill: #FFFFFF;\n",
              "    }\n",
              "  </style>\n",
              "\n",
              "      <script>\n",
              "        const buttonEl =\n",
              "          document.querySelector('#df-471a5ec1-d517-4b30-9550-543f963cf006 button.colab-df-convert');\n",
              "        buttonEl.style.display =\n",
              "          google.colab.kernel.accessAllowed ? 'block' : 'none';\n",
              "\n",
              "        async function convertToInteractive(key) {\n",
              "          const element = document.querySelector('#df-471a5ec1-d517-4b30-9550-543f963cf006');\n",
              "          const dataTable =\n",
              "            await google.colab.kernel.invokeFunction('convertToInteractive',\n",
              "                                                     [key], {});\n",
              "          if (!dataTable) return;\n",
              "\n",
              "          const docLinkHtml = 'Like what you see? Visit the ' +\n",
              "            '<a target=\"_blank\" href=https://colab.research.google.com/notebooks/data_table.ipynb>data table notebook</a>'\n",
              "            + ' to learn more about interactive tables.';\n",
              "          element.innerHTML = '';\n",
              "          dataTable['output_type'] = 'display_data';\n",
              "          await google.colab.output.renderOutput(dataTable, element);\n",
              "          const docLink = document.createElement('div');\n",
              "          docLink.innerHTML = docLinkHtml;\n",
              "          element.appendChild(docLink);\n",
              "        }\n",
              "      </script>\n",
              "    </div>\n",
              "  </div>\n",
              "  "
            ],
            "text/plain": [
              "     Tag_ID  ...                                               Info\n",
              "199    6345  ...  For questions about teaching programming (as o...\n",
              "200    6479  ...  Concerning the two's complement representation...\n",
              "201    6677  ...  The Classroom Environment pertains to things l...\n",
              "202    6893  ...  For questions related to the design of a singl...\n",
              "203    6917  ...  Questions related to mentoring students studyi...\n",
              "\n",
              "[5 rows x 3 columns]"
            ]
          },
          "metadata": {},
          "execution_count": 12
        }
      ],
      "source": [
        "data_wiki.tail()"
      ]
    },
    {
      "cell_type": "code",
      "execution_count": null,
      "metadata": {
        "colab": {
          "base_uri": "https://localhost:8080/"
        },
        "id": "jrX_aup1qRy_",
        "outputId": "ca173ece-9b34-4fb8-a2fa-65f06d736471"
      },
      "outputs": [
        {
          "output_type": "execute_result",
          "data": {
            "text/plain": [
              "(204, 3)"
            ]
          },
          "metadata": {},
          "execution_count": 13
        }
      ],
      "source": [
        "data_wiki.shape"
      ]
    },
    {
      "cell_type": "code",
      "execution_count": null,
      "metadata": {
        "colab": {
          "base_uri": "https://localhost:8080/",
          "height": 580
        },
        "id": "73D_lE7YcSo5",
        "outputId": "68e752d9-6786-4ceb-e24f-bb5c85f802ec"
      },
      "outputs": [
        {
          "output_type": "execute_result",
          "data": {
            "text/html": [
              "\n",
              "  <div id=\"df-ec0beb23-195e-4e87-9f4e-ec5c8292a805\">\n",
              "    <div class=\"colab-df-container\">\n",
              "      <div>\n",
              "<style scoped>\n",
              "    .dataframe tbody tr th:only-of-type {\n",
              "        vertical-align: middle;\n",
              "    }\n",
              "\n",
              "    .dataframe tbody tr th {\n",
              "        vertical-align: top;\n",
              "    }\n",
              "\n",
              "    .dataframe thead th {\n",
              "        text-align: right;\n",
              "    }\n",
              "</style>\n",
              "<table border=\"1\" class=\"dataframe\">\n",
              "  <thead>\n",
              "    <tr style=\"text-align: right;\">\n",
              "      <th></th>\n",
              "      <th>Question_ID</th>\n",
              "      <th>Title</th>\n",
              "      <th>Content</th>\n",
              "      <th>Created at</th>\n",
              "      <th>User_ID</th>\n",
              "      <th>Is answered</th>\n",
              "      <th>Views count</th>\n",
              "      <th>Votes count</th>\n",
              "      <th>Bookmarks count</th>\n",
              "      <th>Answers count</th>\n",
              "      <th>Tags</th>\n",
              "      <th>Comments count</th>\n",
              "      <th>Question existed</th>\n",
              "    </tr>\n",
              "  </thead>\n",
              "  <tbody>\n",
              "    <tr>\n",
              "      <th>1327</th>\n",
              "      <td>7226</td>\n",
              "      <td>Driven to Abstraction</td>\n",
              "      <td>One recurring discussion I have on this site w...</td>\n",
              "      <td>2022-01-10 11:21:38</td>\n",
              "      <td>5349</td>\n",
              "      <td>True</td>\n",
              "      <td>401</td>\n",
              "      <td>5</td>\n",
              "      <td>2</td>\n",
              "      <td>8</td>\n",
              "      <td>[introductory-lesson, computational-thinking, ...</td>\n",
              "      <td>15</td>\n",
              "      <td>False</td>\n",
              "    </tr>\n",
              "    <tr>\n",
              "      <th>1328</th>\n",
              "      <td>7230</td>\n",
              "      <td>Any technology for full body video with slides...</td>\n",
              "      <td>Given the surge of COVID cases many of us have...</td>\n",
              "      <td>2022-01-11 14:33:01</td>\n",
              "      <td>6410</td>\n",
              "      <td>True</td>\n",
              "      <td>36</td>\n",
              "      <td>1</td>\n",
              "      <td>0</td>\n",
              "      <td>1</td>\n",
              "      <td>[lecture-tools, information-technology]</td>\n",
              "      <td>2</td>\n",
              "      <td>False</td>\n",
              "    </tr>\n",
              "    <tr>\n",
              "      <th>1329</th>\n",
              "      <td>7234</td>\n",
              "      <td>Grading programming exercises: the quality vs....</td>\n",
              "      <td>BACKGROUND: I teach a C++ course with 300 stud...</td>\n",
              "      <td>2022-01-11 16:15:57</td>\n",
              "      <td>1873</td>\n",
              "      <td>True</td>\n",
              "      <td>116</td>\n",
              "      <td>5</td>\n",
              "      <td>0</td>\n",
              "      <td>2</td>\n",
              "      <td>[grading, homework]</td>\n",
              "      <td>10</td>\n",
              "      <td>False</td>\n",
              "    </tr>\n",
              "    <tr>\n",
              "      <th>1330</th>\n",
              "      <td>7239</td>\n",
              "      <td>Do you include coding assignments in an intro ...</td>\n",
              "      <td>In an introductory course on complexity and co...</td>\n",
              "      <td>2022-01-15 13:20:36</td>\n",
              "      <td>11545</td>\n",
              "      <td>True</td>\n",
              "      <td>936</td>\n",
              "      <td>7</td>\n",
              "      <td>0</td>\n",
              "      <td>4</td>\n",
              "      <td>[lesson-ideas, resource-request, undergraduate...</td>\n",
              "      <td>0</td>\n",
              "      <td>False</td>\n",
              "    </tr>\n",
              "    <tr>\n",
              "      <th>1331</th>\n",
              "      <td>7248</td>\n",
              "      <td>Why do upgrading a web page causes interrupt t...</td>\n",
              "      <td>\\nWant to improve this question? Update the qu...</td>\n",
              "      <td>2022-01-18 15:25:04</td>\n",
              "      <td>11557</td>\n",
              "      <td>False</td>\n",
              "      <td>13</td>\n",
              "      <td>-2</td>\n",
              "      <td>0</td>\n",
              "      <td>0</td>\n",
              "      <td>[web-development]</td>\n",
              "      <td>2</td>\n",
              "      <td>False</td>\n",
              "    </tr>\n",
              "  </tbody>\n",
              "</table>\n",
              "</div>\n",
              "      <button class=\"colab-df-convert\" onclick=\"convertToInteractive('df-ec0beb23-195e-4e87-9f4e-ec5c8292a805')\"\n",
              "              title=\"Convert this dataframe to an interactive table.\"\n",
              "              style=\"display:none;\">\n",
              "        \n",
              "  <svg xmlns=\"http://www.w3.org/2000/svg\" height=\"24px\"viewBox=\"0 0 24 24\"\n",
              "       width=\"24px\">\n",
              "    <path d=\"M0 0h24v24H0V0z\" fill=\"none\"/>\n",
              "    <path d=\"M18.56 5.44l.94 2.06.94-2.06 2.06-.94-2.06-.94-.94-2.06-.94 2.06-2.06.94zm-11 1L8.5 8.5l.94-2.06 2.06-.94-2.06-.94L8.5 2.5l-.94 2.06-2.06.94zm10 10l.94 2.06.94-2.06 2.06-.94-2.06-.94-.94-2.06-.94 2.06-2.06.94z\"/><path d=\"M17.41 7.96l-1.37-1.37c-.4-.4-.92-.59-1.43-.59-.52 0-1.04.2-1.43.59L10.3 9.45l-7.72 7.72c-.78.78-.78 2.05 0 2.83L4 21.41c.39.39.9.59 1.41.59.51 0 1.02-.2 1.41-.59l7.78-7.78 2.81-2.81c.8-.78.8-2.07 0-2.86zM5.41 20L4 18.59l7.72-7.72 1.47 1.35L5.41 20z\"/>\n",
              "  </svg>\n",
              "      </button>\n",
              "      \n",
              "  <style>\n",
              "    .colab-df-container {\n",
              "      display:flex;\n",
              "      flex-wrap:wrap;\n",
              "      gap: 12px;\n",
              "    }\n",
              "\n",
              "    .colab-df-convert {\n",
              "      background-color: #E8F0FE;\n",
              "      border: none;\n",
              "      border-radius: 50%;\n",
              "      cursor: pointer;\n",
              "      display: none;\n",
              "      fill: #1967D2;\n",
              "      height: 32px;\n",
              "      padding: 0 0 0 0;\n",
              "      width: 32px;\n",
              "    }\n",
              "\n",
              "    .colab-df-convert:hover {\n",
              "      background-color: #E2EBFA;\n",
              "      box-shadow: 0px 1px 2px rgba(60, 64, 67, 0.3), 0px 1px 3px 1px rgba(60, 64, 67, 0.15);\n",
              "      fill: #174EA6;\n",
              "    }\n",
              "\n",
              "    [theme=dark] .colab-df-convert {\n",
              "      background-color: #3B4455;\n",
              "      fill: #D2E3FC;\n",
              "    }\n",
              "\n",
              "    [theme=dark] .colab-df-convert:hover {\n",
              "      background-color: #434B5C;\n",
              "      box-shadow: 0px 1px 3px 1px rgba(0, 0, 0, 0.15);\n",
              "      filter: drop-shadow(0px 1px 2px rgba(0, 0, 0, 0.3));\n",
              "      fill: #FFFFFF;\n",
              "    }\n",
              "  </style>\n",
              "\n",
              "      <script>\n",
              "        const buttonEl =\n",
              "          document.querySelector('#df-ec0beb23-195e-4e87-9f4e-ec5c8292a805 button.colab-df-convert');\n",
              "        buttonEl.style.display =\n",
              "          google.colab.kernel.accessAllowed ? 'block' : 'none';\n",
              "\n",
              "        async function convertToInteractive(key) {\n",
              "          const element = document.querySelector('#df-ec0beb23-195e-4e87-9f4e-ec5c8292a805');\n",
              "          const dataTable =\n",
              "            await google.colab.kernel.invokeFunction('convertToInteractive',\n",
              "                                                     [key], {});\n",
              "          if (!dataTable) return;\n",
              "\n",
              "          const docLinkHtml = 'Like what you see? Visit the ' +\n",
              "            '<a target=\"_blank\" href=https://colab.research.google.com/notebooks/data_table.ipynb>data table notebook</a>'\n",
              "            + ' to learn more about interactive tables.';\n",
              "          element.innerHTML = '';\n",
              "          dataTable['output_type'] = 'display_data';\n",
              "          await google.colab.output.renderOutput(dataTable, element);\n",
              "          const docLink = document.createElement('div');\n",
              "          docLink.innerHTML = docLinkHtml;\n",
              "          element.appendChild(docLink);\n",
              "        }\n",
              "      </script>\n",
              "    </div>\n",
              "  </div>\n",
              "  "
            ],
            "text/plain": [
              "      Question_ID  ... Question existed\n",
              "1327         7226  ...            False\n",
              "1328         7230  ...            False\n",
              "1329         7234  ...            False\n",
              "1330         7239  ...            False\n",
              "1331         7248  ...            False\n",
              "\n",
              "[5 rows x 13 columns]"
            ]
          },
          "metadata": {},
          "execution_count": 14
        }
      ],
      "source": [
        "data_questions.tail()"
      ]
    },
    {
      "cell_type": "code",
      "execution_count": null,
      "metadata": {
        "colab": {
          "base_uri": "https://localhost:8080/"
        },
        "id": "2x_W737XqFbo",
        "outputId": "df6914de-0fda-451a-db56-86694066b007"
      },
      "outputs": [
        {
          "output_type": "execute_result",
          "data": {
            "text/plain": [
              "(1332, 13)"
            ]
          },
          "metadata": {},
          "execution_count": 15
        }
      ],
      "source": [
        "data_questions.shape"
      ]
    },
    {
      "cell_type": "code",
      "execution_count": null,
      "metadata": {
        "colab": {
          "base_uri": "https://localhost:8080/",
          "height": 250
        },
        "id": "pdLiHBkGwVEr",
        "outputId": "7db61a80-c961-4251-cedf-ec78e5e73a6c"
      },
      "outputs": [
        {
          "output_type": "execute_result",
          "data": {
            "text/html": [
              "\n",
              "  <div id=\"df-996e8f10-82db-4beb-9756-4f6285199815\">\n",
              "    <div class=\"colab-df-container\">\n",
              "      <div>\n",
              "<style scoped>\n",
              "    .dataframe tbody tr th:only-of-type {\n",
              "        vertical-align: middle;\n",
              "    }\n",
              "\n",
              "    .dataframe tbody tr th {\n",
              "        vertical-align: top;\n",
              "    }\n",
              "\n",
              "    .dataframe thead th {\n",
              "        text-align: right;\n",
              "    }\n",
              "</style>\n",
              "<table border=\"1\" class=\"dataframe\">\n",
              "  <thead>\n",
              "    <tr style=\"text-align: right;\">\n",
              "      <th></th>\n",
              "      <th>Answer_ID</th>\n",
              "      <th>Title</th>\n",
              "      <th>Content</th>\n",
              "      <th>User_ID</th>\n",
              "      <th>Date</th>\n",
              "      <th>Votes</th>\n",
              "      <th>Question_ID</th>\n",
              "    </tr>\n",
              "  </thead>\n",
              "  <tbody>\n",
              "    <tr>\n",
              "      <th>4187</th>\n",
              "      <td>7243</td>\n",
              "      <td>None</td>\n",
              "      <td>We have before us a question that is apparent...</td>\n",
              "      <td>5349</td>\n",
              "      <td>2022-01-16 22:44:05</td>\n",
              "      <td>1</td>\n",
              "      <td>7226</td>\n",
              "    </tr>\n",
              "    <tr>\n",
              "      <th>4188</th>\n",
              "      <td>7244</td>\n",
              "      <td>Yes - things like sorts, regexes, and virtuali...</td>\n",
              "      <td>Yes - things like sorts, regexes, and virtual...</td>\n",
              "      <td>11549</td>\n",
              "      <td>2022-01-16 23:54:09</td>\n",
              "      <td>1</td>\n",
              "      <td>7239</td>\n",
              "    </tr>\n",
              "    <tr>\n",
              "      <th>4189</th>\n",
              "      <td>7245</td>\n",
              "      <td>None</td>\n",
              "      <td>I teach year 8, some of this: Boolean logic, ...</td>\n",
              "      <td>204</td>\n",
              "      <td>2022-01-17 09:42:00</td>\n",
              "      <td>2</td>\n",
              "      <td>7226</td>\n",
              "    </tr>\n",
              "    <tr>\n",
              "      <th>4190</th>\n",
              "      <td>7246</td>\n",
              "      <td>None</td>\n",
              "      <td>Why not teach people how computers work righ...</td>\n",
              "      <td>2164</td>\n",
              "      <td>2022-01-17 13:47:57</td>\n",
              "      <td>4</td>\n",
              "      <td>7226</td>\n",
              "    </tr>\n",
              "    <tr>\n",
              "      <th>4191</th>\n",
              "      <td>7247</td>\n",
              "      <td>None</td>\n",
              "      <td>One term that I don't see in the answers give...</td>\n",
              "      <td>6346</td>\n",
              "      <td>2022-01-17 19:02:42</td>\n",
              "      <td>0</td>\n",
              "      <td>3590</td>\n",
              "    </tr>\n",
              "  </tbody>\n",
              "</table>\n",
              "</div>\n",
              "      <button class=\"colab-df-convert\" onclick=\"convertToInteractive('df-996e8f10-82db-4beb-9756-4f6285199815')\"\n",
              "              title=\"Convert this dataframe to an interactive table.\"\n",
              "              style=\"display:none;\">\n",
              "        \n",
              "  <svg xmlns=\"http://www.w3.org/2000/svg\" height=\"24px\"viewBox=\"0 0 24 24\"\n",
              "       width=\"24px\">\n",
              "    <path d=\"M0 0h24v24H0V0z\" fill=\"none\"/>\n",
              "    <path d=\"M18.56 5.44l.94 2.06.94-2.06 2.06-.94-2.06-.94-.94-2.06-.94 2.06-2.06.94zm-11 1L8.5 8.5l.94-2.06 2.06-.94-2.06-.94L8.5 2.5l-.94 2.06-2.06.94zm10 10l.94 2.06.94-2.06 2.06-.94-2.06-.94-.94-2.06-.94 2.06-2.06.94z\"/><path d=\"M17.41 7.96l-1.37-1.37c-.4-.4-.92-.59-1.43-.59-.52 0-1.04.2-1.43.59L10.3 9.45l-7.72 7.72c-.78.78-.78 2.05 0 2.83L4 21.41c.39.39.9.59 1.41.59.51 0 1.02-.2 1.41-.59l7.78-7.78 2.81-2.81c.8-.78.8-2.07 0-2.86zM5.41 20L4 18.59l7.72-7.72 1.47 1.35L5.41 20z\"/>\n",
              "  </svg>\n",
              "      </button>\n",
              "      \n",
              "  <style>\n",
              "    .colab-df-container {\n",
              "      display:flex;\n",
              "      flex-wrap:wrap;\n",
              "      gap: 12px;\n",
              "    }\n",
              "\n",
              "    .colab-df-convert {\n",
              "      background-color: #E8F0FE;\n",
              "      border: none;\n",
              "      border-radius: 50%;\n",
              "      cursor: pointer;\n",
              "      display: none;\n",
              "      fill: #1967D2;\n",
              "      height: 32px;\n",
              "      padding: 0 0 0 0;\n",
              "      width: 32px;\n",
              "    }\n",
              "\n",
              "    .colab-df-convert:hover {\n",
              "      background-color: #E2EBFA;\n",
              "      box-shadow: 0px 1px 2px rgba(60, 64, 67, 0.3), 0px 1px 3px 1px rgba(60, 64, 67, 0.15);\n",
              "      fill: #174EA6;\n",
              "    }\n",
              "\n",
              "    [theme=dark] .colab-df-convert {\n",
              "      background-color: #3B4455;\n",
              "      fill: #D2E3FC;\n",
              "    }\n",
              "\n",
              "    [theme=dark] .colab-df-convert:hover {\n",
              "      background-color: #434B5C;\n",
              "      box-shadow: 0px 1px 3px 1px rgba(0, 0, 0, 0.15);\n",
              "      filter: drop-shadow(0px 1px 2px rgba(0, 0, 0, 0.3));\n",
              "      fill: #FFFFFF;\n",
              "    }\n",
              "  </style>\n",
              "\n",
              "      <script>\n",
              "        const buttonEl =\n",
              "          document.querySelector('#df-996e8f10-82db-4beb-9756-4f6285199815 button.colab-df-convert');\n",
              "        buttonEl.style.display =\n",
              "          google.colab.kernel.accessAllowed ? 'block' : 'none';\n",
              "\n",
              "        async function convertToInteractive(key) {\n",
              "          const element = document.querySelector('#df-996e8f10-82db-4beb-9756-4f6285199815');\n",
              "          const dataTable =\n",
              "            await google.colab.kernel.invokeFunction('convertToInteractive',\n",
              "                                                     [key], {});\n",
              "          if (!dataTable) return;\n",
              "\n",
              "          const docLinkHtml = 'Like what you see? Visit the ' +\n",
              "            '<a target=\"_blank\" href=https://colab.research.google.com/notebooks/data_table.ipynb>data table notebook</a>'\n",
              "            + ' to learn more about interactive tables.';\n",
              "          element.innerHTML = '';\n",
              "          dataTable['output_type'] = 'display_data';\n",
              "          await google.colab.output.renderOutput(dataTable, element);\n",
              "          const docLink = document.createElement('div');\n",
              "          docLink.innerHTML = docLinkHtml;\n",
              "          element.appendChild(docLink);\n",
              "        }\n",
              "      </script>\n",
              "    </div>\n",
              "  </div>\n",
              "  "
            ],
            "text/plain": [
              "      Answer_ID  ... Question_ID\n",
              "4187       7243  ...        7226\n",
              "4188       7244  ...        7239\n",
              "4189       7245  ...        7226\n",
              "4190       7246  ...        7226\n",
              "4191       7247  ...        3590\n",
              "\n",
              "[5 rows x 7 columns]"
            ]
          },
          "metadata": {},
          "execution_count": 16
        }
      ],
      "source": [
        "data_answers.tail()"
      ]
    },
    {
      "cell_type": "code",
      "execution_count": null,
      "metadata": {
        "colab": {
          "base_uri": "https://localhost:8080/"
        },
        "id": "n5SDCNSzqM1n",
        "outputId": "80ce44a2-18fc-42fd-ba4f-cc844e00807d"
      },
      "outputs": [
        {
          "output_type": "execute_result",
          "data": {
            "text/plain": [
              "(4192, 7)"
            ]
          },
          "metadata": {},
          "execution_count": 17
        }
      ],
      "source": [
        "data_answers.shape"
      ]
    },
    {
      "cell_type": "markdown",
      "source": [
        "> Spremanje dohvaćenih podataka u csv datoteke"
      ],
      "metadata": {
        "id": "6HZuwsZv1zAC"
      }
    },
    {
      "cell_type": "code",
      "execution_count": null,
      "metadata": {
        "colab": {
          "base_uri": "https://localhost:8080/"
        },
        "id": "geHD6KE3aivd",
        "outputId": "4a58aba1-439b-45d5-fbf9-31a1f07a2c25"
      },
      "outputs": [
        {
          "output_type": "stream",
          "name": "stdout",
          "text": [
            "Mounted at /content/drive\n"
          ]
        }
      ],
      "source": [
        "from google.colab import drive\n",
        "drive.mount('/content/drive')"
      ]
    },
    {
      "cell_type": "code",
      "execution_count": null,
      "metadata": {
        "id": "7Nto7cLma7wh"
      },
      "outputs": [],
      "source": [
        "#Kreiramo putanju na drive-u i naziv dokumenta koji ce nam se stvorit te u njemu spremamo sve podatke koje imamo iz dataframe-a\n",
        "path_w = '/content/drive/My Drive/data_wiki.csv'\n",
        "with open(path_w,'w', encoding = 'utf-8-sig') as f:\n",
        "  data_wiki.to_csv(f)\n",
        "\n",
        "path_q = '/content/drive/My Drive/data_questions.csv'\n",
        "with open(path_q,'w', encoding = 'utf-8-sig') as f:\n",
        "  data_questions.to_csv(f)\n",
        "  \n",
        "path_a = '/content/drive/My Drive/data_answers.csv'\n",
        "with open(path_a,'w', encoding = 'utf-8-sig') as f:\n",
        "  data_answers.to_csv(f)"
      ]
    }
  ]
}
